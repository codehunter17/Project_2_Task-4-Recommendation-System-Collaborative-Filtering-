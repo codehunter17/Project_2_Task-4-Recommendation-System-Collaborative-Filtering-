{
 "cells": [
  {
   "cell_type": "markdown",
   "id": "deb4b023",
   "metadata": {},
   "source": [
    "# Recommendation System using Collaborative Filtering\n",
    "\n",
    "Building a basic recommendation system using user-item matrix and cosine similarity (Collaborative Filtering technique)."
   ]
  },
  {
   "cell_type": "code",
   "execution_count": null,
   "id": "b9ce386e",
   "metadata": {},
   "outputs": [],
   "source": [
    "\n",
    "# Step 1: Import necessary libraries\n",
    "import pandas as pd\n",
    "import numpy as np\n",
    "from sklearn.metrics.pairwise import cosine_similarity\n"
   ]
  },
  {
   "cell_type": "code",
   "execution_count": null,
   "id": "6310add0",
   "metadata": {},
   "outputs": [],
   "source": [
    "\n",
    "# Step 2: Create a sample user-item rating dataset\n",
    "data = {\n",
    "    'User': ['A', 'A', 'A', 'B', 'B', 'C', 'C', 'D'],\n",
    "    'Item': ['Item1', 'Item2', 'Item3', 'Item1', 'Item2', 'Item2', 'Item3', 'Item1'],\n",
    "    'Rating': [5, 3, 4, 5, 2, 4, 5, 3]\n",
    "}\n",
    "\n",
    "df = pd.DataFrame(data)\n",
    "print(df)\n"
   ]
  },
  {
   "cell_type": "code",
   "execution_count": null,
   "id": "46db7e59",
   "metadata": {},
   "outputs": [],
   "source": [
    "\n",
    "# Step 3: Create a User-Item Matrix\n",
    "user_item_matrix = df.pivot_table(index='User', columns='Item', values='Rating').fillna(0)\n",
    "print(\"\\nUser-Item Matrix:\")\n",
    "print(user_item_matrix)\n"
   ]
  },
  {
   "cell_type": "code",
   "execution_count": null,
   "id": "40ec6db8",
   "metadata": {},
   "outputs": [],
   "source": [
    "\n",
    "# Step 4: Calculate Cosine Similarity between users\n",
    "user_similarity = cosine_similarity(user_item_matrix)\n",
    "user_similarity_df = pd.DataFrame(user_similarity, index=user_item_matrix.index, columns=user_item_matrix.index)\n",
    "\n",
    "print(\"\\nUser Similarity Matrix:\")\n",
    "print(user_similarity_df)\n"
   ]
  },
  {
   "cell_type": "code",
   "execution_count": null,
   "id": "7dd70689",
   "metadata": {},
   "outputs": [],
   "source": [
    "\n",
    "# Step 5: Generate Recommendations for a target user (Example: User 'D')\n",
    "def recommend_items(user, user_item_matrix, similarity_df, top_n=2):\n",
    "    similar_users = similarity_df[user].sort_values(ascending=False)[1:]  # Exclude self\n",
    "    \n",
    "    scores = {}\n",
    "    for similar_user, sim_score in similar_users.items():\n",
    "        user_ratings = user_item_matrix.loc[similar_user]\n",
    "        for item in user_item_matrix.columns:\n",
    "            if user_item_matrix.loc[user, item] == 0 and user_ratings[item] > 0:\n",
    "                scores[item] = scores.get(item, 0) + sim_score * user_ratings[item]\n",
    "    \n",
    "    recommended_items = sorted(scores.items(), key=lambda x: x[1], reverse=True)[:top_n]\n",
    "    return [item for item, score in recommended_items]\n",
    "\n",
    "target_user = 'D'\n",
    "recommendations = recommend_items(target_user, user_item_matrix, user_similarity_df, top_n=2)\n",
    "print(f\"Recommended items for User {target_user}: {recommendations}\")\n"
   ]
  },
  {
   "cell_type": "code",
   "execution_count": null,
   "id": "9e159be6",
   "metadata": {},
   "outputs": [],
   "source": [
    "\n",
    "# Step 6: Evaluation (using simple metrics - Coverage and Hit Rate for demonstration)\n",
    "# In real projects, larger datasets and metrics like RMSE, MAE, Precision@K, etc. are used.\n",
    "\n",
    "def hit_rate(recommendations, actual_items):\n",
    "    hits = len(set(recommendations) & set(actual_items))\n",
    "    return hits / len(actual_items) if actual_items else 0\n",
    "\n",
    "# Example test for user 'D' assuming actual liked item was 'Item2'\n",
    "actual_liked_items = ['Item2']\n",
    "hit = hit_rate(recommendations, actual_liked_items)\n",
    "print(f\"Hit Rate for User {target_user}: {hit:.2f}\")\n"
   ]
  }
 ],
 "metadata": {},
 "nbformat": 4,
 "nbformat_minor": 5
}
